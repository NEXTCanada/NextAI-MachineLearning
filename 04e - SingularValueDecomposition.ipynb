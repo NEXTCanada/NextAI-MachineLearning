{
 "cells": [
  {
   "cell_type": "code",
   "execution_count": 0,
   "metadata": {
    "colab": {},
    "colab_type": "code",
    "id": "wsy8gVkbkZcx"
   },
   "outputs": [],
   "source": [
    "import numpy as np"
   ]
  },
  {
   "cell_type": "markdown",
   "metadata": {
    "colab_type": "text",
    "id": "ysHe9KPgkbDA"
   },
   "source": [
    "# Singular Value Decomposition\n",
    "\n",
    "Let's work through Example 4.13 of [Mathematics for Machine Learning](https://mml-book.github.io/) using NumPy.\n",
    "\n",
    "We would like to compute the singular value decomposition (SVD) of $\\mathbf{A} =\n",
    "\\begin{bmatrix}\n",
    "1  & 0 & 1\\\\\n",
    "-2 & 1 & 0\\\\\n",
    "\\end{bmatrix}\n",
    "$.\n",
    "\n",
    "Step 1 is to compute the right-singular vectors as the eigenbasis of $\\mathbf{A}^{\\top}\\mathbf{A}$:"
   ]
  },
  {
   "cell_type": "code",
   "execution_count": 0,
   "metadata": {
    "colab": {},
    "colab_type": "code",
    "id": "J_dVcjjOk-jq"
   },
   "outputs": [],
   "source": [
    "A = np.array([[1., 0., 1.], [-2., 1., 0.]])\n",
    "d, V = np.linalg.eig(np.dot(A.T, A))\n",
    "print(d)\n",
    "print(V)"
   ]
  },
  {
   "cell_type": "markdown",
   "metadata": {
    "colab_type": "text",
    "id": "L536AmhAlSQP"
   },
   "source": [
    "Note that `numpy.linalg.eig` does not necessarily order its eigenvalues. By convention, we will sort the eigenvectors from largest to smallest eigenvalue:"
   ]
  },
  {
   "cell_type": "code",
   "execution_count": 0,
   "metadata": {
    "colab": {},
    "colab_type": "code",
    "id": "HE8E9-Fuljc9"
   },
   "outputs": [],
   "source": [
    "idx = d.argsort()[::-1]\n",
    "d = d[idx]\n",
    "V = V[:, idx]\n",
    "print(d)\n",
    "print(V)"
   ]
  },
  {
   "cell_type": "markdown",
   "metadata": {
    "colab_type": "text",
    "id": "Abpt_vh8mJy1"
   },
   "source": [
    "Step 2 is to compute the singular-value matrix. The singular values are the square roots of the eigenvalues of $\\mathbf{A}^{\\top}\\mathbf{A}$. Since the rank of $\\mathbf{A}=2$, there are only two non-zero singular values. Remember that the singular value matrix must be the same size as $\\mathbf{A}$, so we pad with zeros accordingly:"
   ]
  },
  {
   "cell_type": "code",
   "execution_count": 0,
   "metadata": {
    "colab": {},
    "colab_type": "code",
    "id": "CwVR2AgUx5wf"
   },
   "outputs": [],
   "source": [
    "min_dim = min(A.shape)\n",
    "nz_idx = ~np.isclose(d, np.zeros_like(d))  # index to non-zero elements\n",
    "Sigma = np.zeros_like(A)\n",
    "# This next step is careful to construct Sigma with the right zero padding\n",
    "Sigma[:min_dim, :min_dim] = np.diag(np.sqrt(d[nz_idx]))\n",
    "print(Sigma)"
   ]
  },
  {
   "cell_type": "markdown",
   "metadata": {
    "colab_type": "text",
    "id": "0FPbfrYxnbdb"
   },
   "source": [
    "We see that indeed $\\mathbf{\\Sigma}=\n",
    "\\begin{bmatrix}\n",
    "\\sqrt{6} & 0 & 0\\\\\n",
    "0        & 1 & 0\n",
    "\\end{bmatrix}$.\n",
    "\n",
    "Step 3 is to compute the left-singular vectors as the normalized image of the right-singular vectors:"
   ]
  },
  {
   "cell_type": "code",
   "execution_count": 0,
   "metadata": {
    "colab": {},
    "colab_type": "code",
    "id": "0za8b_N_n6M0"
   },
   "outputs": [],
   "source": [
    "m = A.shape[0]\n",
    "U = np.zeros((m, m))\n",
    "for i in range(m):\n",
    "  U[:, i] = (1/Sigma.flat[::Sigma.shape[1]+1][i]) * np.dot(A, V[:, i])\n",
    "print(U)"
   ]
  },
  {
   "cell_type": "markdown",
   "metadata": {
    "colab_type": "text",
    "id": "kAWuhpYxsKqr"
   },
   "source": [
    "We see that indeed $\\mathbf{U} =\n",
    "\\frac{1}{\\sqrt{5}}\n",
    "\\begin{bmatrix}\n",
    "1  & 2\\\\\n",
    "-2 & 1\n",
    "\\end{bmatrix}.$\n",
    "\n",
    "Note that this procedure is numerically unstable, and we can typically compute the SVD without resorting to the eigenvalue decomposition of $\\mathbf{A}^{\\top}\\mathbf{A}$. `numpy.linalg.svd` provides a convenient way to do this:"
   ]
  },
  {
   "cell_type": "code",
   "execution_count": 0,
   "metadata": {
    "colab": {},
    "colab_type": "code",
    "id": "4PBNI8F_s-C5"
   },
   "outputs": [],
   "source": [
    "u, s, vh = np.linalg.svd(A)  # using the variable names in numpy docs\n",
    "print(u)\n",
    "print(s)\n",
    "# The \"h\" in vh refers to the Hermetian, which is the complex generalization\n",
    "# of the transpose\n",
    "# Effectively, this is V.T\n",
    "print(vh)  "
   ]
  },
  {
   "cell_type": "markdown",
   "metadata": {
    "colab_type": "text",
    "id": "Y0TcdYiUzG04"
   },
   "source": [
    "You will notice, that for the exception of negative signs that appear in $\\mathbf{U}$ and $\\mathbf{V}^{\\top}$ and cancel out, that this is the same decomposition that we computed above. We can verify that it implements the linear mapping $\\mathbf{A}$:"
   ]
  },
  {
   "cell_type": "code",
   "execution_count": 0,
   "metadata": {
    "colab": {},
    "colab_type": "code",
    "id": "dGh_LCa-vcPS"
   },
   "outputs": [],
   "source": [
    "smat = np.zeros_like(A)\n",
    "smat[:min_dim, :min_dim] = np.diag(s)\n",
    "np.allclose(u @ smat @ vh, A)  # note that @ is matrix multiplication"
   ]
  },
  {
   "cell_type": "markdown",
   "metadata": {
    "colab_type": "text",
    "id": "FwOaj5enxnzg"
   },
   "source": [
    "## Exercise\n",
    "\n",
    "Verify that the SVD implements $\\mathbf{A}$ like we did above, but without having to explicitly compute `smat`. In other words, leave `s` in vector form. Hint: what part of `vh` is not used at all in `u @ smat @ vh`?"
   ]
  }
 ],
 "metadata": {
  "colab": {
   "collapsed_sections": [],
   "name": "SingularValueDecomposition.ipynb",
   "provenance": [],
   "version": "0.3.2"
  },
  "kernelspec": {
   "display_name": "Python 3",
   "language": "python",
   "name": "python3"
  },
  "language_info": {
   "codemirror_mode": {
    "name": "ipython",
    "version": 3
   },
   "file_extension": ".py",
   "mimetype": "text/x-python",
   "name": "python",
   "nbconvert_exporter": "python",
   "pygments_lexer": "ipython3",
   "version": "3.6.10"
  }
 },
 "nbformat": 4,
 "nbformat_minor": 1
}
